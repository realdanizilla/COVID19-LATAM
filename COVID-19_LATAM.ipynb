{
 "cells": [
  {
   "cell_type": "code",
   "execution_count": null,
   "metadata": {},
   "outputs": [],
   "source": [
    "import pandas as pd\n",
    "from datetime import datetime as dt\n",
    "\n",
    "# passo 1: Leia os dados que você acabou de baixar\n",
    "df_eda = pd.read_csv(\"https://raw.githubusercontent.com/JJTorresDS/ds-data-sources/main/covid_data_raw.csv\")\n",
    "display(df_eda.head())\n",
    "\n",
    "# passo 2: Crie uma variável que armazena os dias desde a aplicação da primeira vacina\n",
    "# passo 2.1: Para isso, precisamos converter as nossas colunas de date para datetime, \n",
    "# para que possamos calcular com facilidade a diferença entre elas\n",
    "\n",
    "df_eda[\"Date_reported\"] = pd.to_datetime(df_eda[\"Date_reported\"],infer_datetime_format=True)\n",
    "df_eda[\"FIRST_VACCINE_DATE\"] = pd.to_datetime(df_eda[\"FIRST_VACCINE_DATE\"],infer_datetime_format=True)\n",
    "\n",
    "# passo 2.2: Crie uma variável que contém os dias desde a aplicação da primeira vacina\n",
    "# calculando a diferença entre o dia atual e o dia em que a primeira vacina\n",
    "# foi aplicada\n",
    "\n",
    "df_eda[\"days_since_vaccine\"] = (\n",
    "    df_eda[\"Date_reported\"] - df_eda[\"FIRST_VACCINE_DATE\"]\n",
    "    ).dt.days   # registra o número de dias desde a aplicação da primeira vacina:\n",
    "                # números negativos indicam os dias que faltam para a primeira aplicação da vacina,\n",
    "                # e números positivos indicam o número de dias que se passaram desde a aplicação da primeira vacina contra a covid-19.\n",
    "                # Por exemplo, -2 indica 2 dias antes da primeira aplicação da primeira dose da vacina, e 2 (ou +2) indica que 2 dias se passaram desde que a primeira vacina contra a covid-19 foi aplicada.\n",
    "\n",
    "# passo 3: Crie um rótulo para indicar se, em uma data especifica,\n",
    "# a vacinação já comecou\n",
    "\n",
    "df_eda[\"vaccination_started\"] = df_eda[\"days_since_vaccine\"].apply(lambda x: \"Yes\" if x>=0 else \"No\") #é uma variável rotulada como True para os dias que vêm após a data da primeira aplicação da vacina.\n",
    "\n",
    "display(df_eda.head())"
   ]
  }
 ],
 "metadata": {
  "kernelspec": {
   "display_name": "Python 3",
   "language": "python",
   "name": "python3"
  },
  "language_info": {
   "codemirror_mode": {
    "name": "ipython",
    "version": 3
   },
   "file_extension": ".py",
   "mimetype": "text/x-python",
   "name": "python",
   "nbconvert_exporter": "python",
   "pygments_lexer": "ipython3",
   "version": "3.12.3"
  }
 },
 "nbformat": 4,
 "nbformat_minor": 2
}
